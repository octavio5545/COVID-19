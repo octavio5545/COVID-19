{
 "cells": [
  {
   "cell_type": "markdown",
   "metadata": {},
   "source": [
    "<font color=\"red\" size=7>\n",
    "    \n",
    "Coronavirus COVID-19\n",
    ".    \n",
    "<font color=\"red\" size=4>\n",
    "    \n",
    "(Año 2020)"
   ]
  },
  {
   "cell_type": "markdown",
   "metadata": {},
   "source": [
    "<font size=4>\n",
    "    \n",
    "En este pequeño ejercicio de análisis se plantean las siguientes preguntas:\n",
    "    \n",
    "    # ¿Cúantos casos confirmados de personas infectadas hay en el mundo?\n",
    "    # ¿Qué país tiene el mayor número de casos?\n",
    "    # ¿Cuántas personas han fallecido por causa del coronavirus?\n",
    "    # ¿Qué porcentaje de la población infectada ha muerto?\n",
    "    # ¿Cómo ha sido el crecimiento de casos en un país determinado?\n",
    "______________________________________________________"
   ]
  },
  {
   "cell_type": "code",
   "execution_count": 2,
   "metadata": {},
   "outputs": [],
   "source": [
    "import pandas as pd\n",
    "import matplotlib.pyplot as plt\n",
    "%matplotlib inline"
   ]
  },
  {
   "cell_type": "markdown",
   "metadata": {},
   "source": [
    "<font color='blue' size=4>\n",
    "    \n",
    "Full data set"
   ]
  },
  {
   "cell_type": "code",
   "execution_count": 3,
   "metadata": {
    "scrolled": true
   },
   "outputs": [
    {
     "data": {
      "text/html": [
       "<div>\n",
       "<style scoped>\n",
       "    .dataframe tbody tr th:only-of-type {\n",
       "        vertical-align: middle;\n",
       "    }\n",
       "\n",
       "    .dataframe tbody tr th {\n",
       "        vertical-align: top;\n",
       "    }\n",
       "\n",
       "    .dataframe thead th {\n",
       "        text-align: right;\n",
       "    }\n",
       "</style>\n",
       "<table border=\"1\" class=\"dataframe\">\n",
       "  <thead>\n",
       "    <tr style=\"text-align: right;\">\n",
       "      <th></th>\n",
       "      <th>date</th>\n",
       "      <th>location</th>\n",
       "      <th>new_cases</th>\n",
       "      <th>new_deaths</th>\n",
       "      <th>total_cases</th>\n",
       "      <th>total_deaths</th>\n",
       "    </tr>\n",
       "  </thead>\n",
       "  <tbody>\n",
       "    <tr>\n",
       "      <th>0</th>\n",
       "      <td>2019-12-31</td>\n",
       "      <td>Afghanistan</td>\n",
       "      <td>0</td>\n",
       "      <td>0</td>\n",
       "      <td>0</td>\n",
       "      <td>0</td>\n",
       "    </tr>\n",
       "    <tr>\n",
       "      <th>1</th>\n",
       "      <td>2020-01-01</td>\n",
       "      <td>Afghanistan</td>\n",
       "      <td>0</td>\n",
       "      <td>0</td>\n",
       "      <td>0</td>\n",
       "      <td>0</td>\n",
       "    </tr>\n",
       "    <tr>\n",
       "      <th>2</th>\n",
       "      <td>2020-01-02</td>\n",
       "      <td>Afghanistan</td>\n",
       "      <td>0</td>\n",
       "      <td>0</td>\n",
       "      <td>0</td>\n",
       "      <td>0</td>\n",
       "    </tr>\n",
       "    <tr>\n",
       "      <th>3</th>\n",
       "      <td>2020-01-03</td>\n",
       "      <td>Afghanistan</td>\n",
       "      <td>0</td>\n",
       "      <td>0</td>\n",
       "      <td>0</td>\n",
       "      <td>0</td>\n",
       "    </tr>\n",
       "    <tr>\n",
       "      <th>4</th>\n",
       "      <td>2020-01-04</td>\n",
       "      <td>Afghanistan</td>\n",
       "      <td>0</td>\n",
       "      <td>0</td>\n",
       "      <td>0</td>\n",
       "      <td>0</td>\n",
       "    </tr>\n",
       "  </tbody>\n",
       "</table>\n",
       "</div>"
      ],
      "text/plain": [
       "         date     location  new_cases  new_deaths  total_cases  total_deaths\n",
       "0  2019-12-31  Afghanistan          0           0            0             0\n",
       "1  2020-01-01  Afghanistan          0           0            0             0\n",
       "2  2020-01-02  Afghanistan          0           0            0             0\n",
       "3  2020-01-03  Afghanistan          0           0            0             0\n",
       "4  2020-01-04  Afghanistan          0           0            0             0"
      ]
     },
     "execution_count": 3,
     "metadata": {},
     "output_type": "execute_result"
    }
   ],
   "source": [
    "source_full_data = \"https://covid.ourworldindata.org/data/ecdc/full_data.csv\"\n",
    "data1 = pd.read_csv(source_full_data)\n",
    "full_data = pd.DataFrame(data1)\n",
    "full_data.head()"
   ]
  },
  {
   "cell_type": "code",
   "execution_count": 4,
   "metadata": {},
   "outputs": [
    {
     "data": {
      "text/plain": [
       "new_cases        18345\n",
       "new_deaths         970\n",
       "total_cases     213254\n",
       "total_deaths      8843\n",
       "dtype: int64"
      ]
     },
     "execution_count": 4,
     "metadata": {},
     "output_type": "execute_result"
    }
   ],
   "source": [
    "full_data[['new_cases', 'new_deaths', 'total_cases', 'total_deaths']].max()"
   ]
  },
  {
   "cell_type": "code",
   "execution_count": 84,
   "metadata": {},
   "outputs": [
    {
     "name": "stdout",
     "output_type": "stream",
     "text": [
      "\u001b[1m \n",
      " EL TOTAL DE MUERTES HASTA EL MOMENTO ES DE 8843 PERSONAS \u001b[0m \n",
      "\n"
     ]
    }
   ],
   "source": [
    "deaths = full_data['total_deaths'].max()\n",
    "print(\"\\033[1m \\n EL TOTAL DE MUERTES HASTA EL MOMENTO ES DE \" + str(deaths) + \" PERSONAS \\033[0m \\n\")"
   ]
  },
  {
   "cell_type": "markdown",
   "metadata": {},
   "source": [
    "."
   ]
  },
  {
   "cell_type": "markdown",
   "metadata": {},
   "source": [
    "<font color=\"blue\" size=4>\n",
    "    \n",
    "Total cases set"
   ]
  },
  {
   "cell_type": "code",
   "execution_count": 7,
   "metadata": {},
   "outputs": [
    {
     "data": {
      "text/html": [
       "<div>\n",
       "<style scoped>\n",
       "    .dataframe tbody tr th:only-of-type {\n",
       "        vertical-align: middle;\n",
       "    }\n",
       "\n",
       "    .dataframe tbody tr th {\n",
       "        vertical-align: top;\n",
       "    }\n",
       "\n",
       "    .dataframe thead th {\n",
       "        text-align: right;\n",
       "    }\n",
       "</style>\n",
       "<table border=\"1\" class=\"dataframe\">\n",
       "  <thead>\n",
       "    <tr style=\"text-align: right;\">\n",
       "      <th></th>\n",
       "      <th>date</th>\n",
       "      <th>World</th>\n",
       "      <th>Afghanistan</th>\n",
       "      <th>Albania</th>\n",
       "      <th>Algeria</th>\n",
       "      <th>Andorra</th>\n",
       "      <th>Antigua and Barbuda</th>\n",
       "      <th>Argentina</th>\n",
       "      <th>Armenia</th>\n",
       "      <th>Australia</th>\n",
       "      <th>...</th>\n",
       "      <th>Ukraine</th>\n",
       "      <th>United Arab Emirates</th>\n",
       "      <th>United Kingdom</th>\n",
       "      <th>United States</th>\n",
       "      <th>Uruguay</th>\n",
       "      <th>Uzbekistan</th>\n",
       "      <th>Vatican</th>\n",
       "      <th>Venezuela</th>\n",
       "      <th>Vietnam</th>\n",
       "      <th>Zambia</th>\n",
       "    </tr>\n",
       "  </thead>\n",
       "  <tbody>\n",
       "    <tr>\n",
       "      <th>0</th>\n",
       "      <td>2019-12-31</td>\n",
       "      <td>27</td>\n",
       "      <td>0.0</td>\n",
       "      <td>NaN</td>\n",
       "      <td>0.0</td>\n",
       "      <td>NaN</td>\n",
       "      <td>NaN</td>\n",
       "      <td>NaN</td>\n",
       "      <td>0.0</td>\n",
       "      <td>0</td>\n",
       "      <td>...</td>\n",
       "      <td>NaN</td>\n",
       "      <td>0.0</td>\n",
       "      <td>0</td>\n",
       "      <td>0</td>\n",
       "      <td>NaN</td>\n",
       "      <td>NaN</td>\n",
       "      <td>NaN</td>\n",
       "      <td>NaN</td>\n",
       "      <td>0.0</td>\n",
       "      <td>NaN</td>\n",
       "    </tr>\n",
       "    <tr>\n",
       "      <th>1</th>\n",
       "      <td>2020-01-01</td>\n",
       "      <td>27</td>\n",
       "      <td>0.0</td>\n",
       "      <td>NaN</td>\n",
       "      <td>0.0</td>\n",
       "      <td>NaN</td>\n",
       "      <td>NaN</td>\n",
       "      <td>NaN</td>\n",
       "      <td>0.0</td>\n",
       "      <td>0</td>\n",
       "      <td>...</td>\n",
       "      <td>NaN</td>\n",
       "      <td>0.0</td>\n",
       "      <td>0</td>\n",
       "      <td>0</td>\n",
       "      <td>NaN</td>\n",
       "      <td>NaN</td>\n",
       "      <td>NaN</td>\n",
       "      <td>NaN</td>\n",
       "      <td>0.0</td>\n",
       "      <td>NaN</td>\n",
       "    </tr>\n",
       "    <tr>\n",
       "      <th>2</th>\n",
       "      <td>2020-01-02</td>\n",
       "      <td>27</td>\n",
       "      <td>0.0</td>\n",
       "      <td>NaN</td>\n",
       "      <td>0.0</td>\n",
       "      <td>NaN</td>\n",
       "      <td>NaN</td>\n",
       "      <td>NaN</td>\n",
       "      <td>0.0</td>\n",
       "      <td>0</td>\n",
       "      <td>...</td>\n",
       "      <td>NaN</td>\n",
       "      <td>0.0</td>\n",
       "      <td>0</td>\n",
       "      <td>0</td>\n",
       "      <td>NaN</td>\n",
       "      <td>NaN</td>\n",
       "      <td>NaN</td>\n",
       "      <td>NaN</td>\n",
       "      <td>0.0</td>\n",
       "      <td>NaN</td>\n",
       "    </tr>\n",
       "    <tr>\n",
       "      <th>3</th>\n",
       "      <td>2020-01-03</td>\n",
       "      <td>44</td>\n",
       "      <td>0.0</td>\n",
       "      <td>NaN</td>\n",
       "      <td>0.0</td>\n",
       "      <td>NaN</td>\n",
       "      <td>NaN</td>\n",
       "      <td>NaN</td>\n",
       "      <td>0.0</td>\n",
       "      <td>0</td>\n",
       "      <td>...</td>\n",
       "      <td>NaN</td>\n",
       "      <td>0.0</td>\n",
       "      <td>0</td>\n",
       "      <td>0</td>\n",
       "      <td>NaN</td>\n",
       "      <td>NaN</td>\n",
       "      <td>NaN</td>\n",
       "      <td>NaN</td>\n",
       "      <td>0.0</td>\n",
       "      <td>NaN</td>\n",
       "    </tr>\n",
       "    <tr>\n",
       "      <th>4</th>\n",
       "      <td>2020-01-04</td>\n",
       "      <td>44</td>\n",
       "      <td>0.0</td>\n",
       "      <td>NaN</td>\n",
       "      <td>0.0</td>\n",
       "      <td>NaN</td>\n",
       "      <td>NaN</td>\n",
       "      <td>NaN</td>\n",
       "      <td>0.0</td>\n",
       "      <td>0</td>\n",
       "      <td>...</td>\n",
       "      <td>NaN</td>\n",
       "      <td>0.0</td>\n",
       "      <td>0</td>\n",
       "      <td>0</td>\n",
       "      <td>NaN</td>\n",
       "      <td>NaN</td>\n",
       "      <td>NaN</td>\n",
       "      <td>NaN</td>\n",
       "      <td>0.0</td>\n",
       "      <td>NaN</td>\n",
       "    </tr>\n",
       "  </tbody>\n",
       "</table>\n",
       "<p>5 rows × 157 columns</p>\n",
       "</div>"
      ],
      "text/plain": [
       "         date  World  Afghanistan  Albania  Algeria  Andorra  \\\n",
       "0  2019-12-31     27          0.0      NaN      0.0      NaN   \n",
       "1  2020-01-01     27          0.0      NaN      0.0      NaN   \n",
       "2  2020-01-02     27          0.0      NaN      0.0      NaN   \n",
       "3  2020-01-03     44          0.0      NaN      0.0      NaN   \n",
       "4  2020-01-04     44          0.0      NaN      0.0      NaN   \n",
       "\n",
       "   Antigua and Barbuda  Argentina  Armenia  Australia  ...  Ukraine  \\\n",
       "0                  NaN        NaN      0.0          0  ...      NaN   \n",
       "1                  NaN        NaN      0.0          0  ...      NaN   \n",
       "2                  NaN        NaN      0.0          0  ...      NaN   \n",
       "3                  NaN        NaN      0.0          0  ...      NaN   \n",
       "4                  NaN        NaN      0.0          0  ...      NaN   \n",
       "\n",
       "   United Arab Emirates  United Kingdom  United States  Uruguay  Uzbekistan  \\\n",
       "0                   0.0               0              0      NaN         NaN   \n",
       "1                   0.0               0              0      NaN         NaN   \n",
       "2                   0.0               0              0      NaN         NaN   \n",
       "3                   0.0               0              0      NaN         NaN   \n",
       "4                   0.0               0              0      NaN         NaN   \n",
       "\n",
       "   Vatican  Venezuela  Vietnam  Zambia  \n",
       "0      NaN        NaN      0.0     NaN  \n",
       "1      NaN        NaN      0.0     NaN  \n",
       "2      NaN        NaN      0.0     NaN  \n",
       "3      NaN        NaN      0.0     NaN  \n",
       "4      NaN        NaN      0.0     NaN  \n",
       "\n",
       "[5 rows x 157 columns]"
      ]
     },
     "execution_count": 7,
     "metadata": {},
     "output_type": "execute_result"
    }
   ],
   "source": [
    "source_total_cases = \"https://covid.ourworldindata.org/data/ecdc/total_cases.csv\"\n",
    "data2 = pd.read_csv(source_total_cases)\n",
    "total_cases = pd.DataFrame(data2)\n",
    "total_cases.head()"
   ]
  },
  {
   "cell_type": "code",
   "execution_count": 12,
   "metadata": {},
   "outputs": [],
   "source": [
    "#Número de casos\n",
    "max_world = total_cases['World'].max()"
   ]
  },
  {
   "cell_type": "code",
   "execution_count": 87,
   "metadata": {},
   "outputs": [
    {
     "name": "stdout",
     "output_type": "stream",
     "text": [
      "\u001b[1m \n",
      " HASTA AHORA, HA HABIDO UN TOTAL DE 213254 CASOS EN TODO EL MUNDO \u001b[0m \n",
      "\n",
      "\u001b[1m \n",
      " (El 0.04% HA FALLECIDO) \u001b[0m \n",
      "\n"
     ]
    }
   ],
   "source": [
    "print(\"\\033[1m \\n HASTA AHORA, HA HABIDO UN TOTAL DE \" + str(max_world) + \" CASOS EN TODO EL MUNDO \\033[0m \\n\")\n",
    "print(\"\\033[1m \\n (El \" + str(round(deaths/max_world, 2)) + \"% HA FALLECIDO) \\033[0m \\n\")"
   ]
  },
  {
   "cell_type": "code",
   "execution_count": 88,
   "metadata": {},
   "outputs": [
    {
     "data": {
      "text/html": [
       "<div>\n",
       "<style scoped>\n",
       "    .dataframe tbody tr th:only-of-type {\n",
       "        vertical-align: middle;\n",
       "    }\n",
       "\n",
       "    .dataframe tbody tr th {\n",
       "        vertical-align: top;\n",
       "    }\n",
       "\n",
       "    .dataframe thead th {\n",
       "        text-align: right;\n",
       "    }\n",
       "</style>\n",
       "<table border=\"1\" class=\"dataframe\">\n",
       "  <thead>\n",
       "    <tr style=\"text-align: right;\">\n",
       "      <th></th>\n",
       "      <th>World</th>\n",
       "      <th>Afghanistan</th>\n",
       "      <th>Albania</th>\n",
       "      <th>Algeria</th>\n",
       "      <th>Andorra</th>\n",
       "      <th>Antigua and Barbuda</th>\n",
       "      <th>Argentina</th>\n",
       "      <th>Armenia</th>\n",
       "      <th>Australia</th>\n",
       "      <th>Austria</th>\n",
       "      <th>...</th>\n",
       "      <th>Ukraine</th>\n",
       "      <th>United Arab Emirates</th>\n",
       "      <th>United Kingdom</th>\n",
       "      <th>United States</th>\n",
       "      <th>Uruguay</th>\n",
       "      <th>Uzbekistan</th>\n",
       "      <th>Vatican</th>\n",
       "      <th>Venezuela</th>\n",
       "      <th>Vietnam</th>\n",
       "      <th>Zambia</th>\n",
       "    </tr>\n",
       "  </thead>\n",
       "  <tbody>\n",
       "    <tr>\n",
       "      <th>count</th>\n",
       "      <td>80.000000</td>\n",
       "      <td>70.000000</td>\n",
       "      <td>11.000000</td>\n",
       "      <td>75.000000</td>\n",
       "      <td>6.000000</td>\n",
       "      <td>1.0</td>\n",
       "      <td>13.000000</td>\n",
       "      <td>71.000000</td>\n",
       "      <td>80.00000</td>\n",
       "      <td>80.000000</td>\n",
       "      <td>...</td>\n",
       "      <td>6.000000</td>\n",
       "      <td>74.000000</td>\n",
       "      <td>80.000000</td>\n",
       "      <td>80.000000</td>\n",
       "      <td>5.000000</td>\n",
       "      <td>4.000000</td>\n",
       "      <td>5.0</td>\n",
       "      <td>5.000000</td>\n",
       "      <td>76.000000</td>\n",
       "      <td>1.0</td>\n",
       "    </tr>\n",
       "    <tr>\n",
       "      <th>mean</th>\n",
       "      <td>51040.925000</td>\n",
       "      <td>1.557143</td>\n",
       "      <td>30.000000</td>\n",
       "      <td>5.466667</td>\n",
       "      <td>14.833333</td>\n",
       "      <td>1.0</td>\n",
       "      <td>35.230769</td>\n",
       "      <td>4.507042</td>\n",
       "      <td>44.82500</td>\n",
       "      <td>92.000000</td>\n",
       "      <td>...</td>\n",
       "      <td>7.500000</td>\n",
       "      <td>15.256757</td>\n",
       "      <td>154.025000</td>\n",
       "      <td>461.975000</td>\n",
       "      <td>34.400000</td>\n",
       "      <td>13.250000</td>\n",
       "      <td>1.0</td>\n",
       "      <td>24.800000</td>\n",
       "      <td>13.539474</td>\n",
       "      <td>2.0</td>\n",
       "    </tr>\n",
       "    <tr>\n",
       "      <th>std</th>\n",
       "      <td>54392.980669</td>\n",
       "      <td>4.915623</td>\n",
       "      <td>20.721969</td>\n",
       "      <td>14.925340</td>\n",
       "      <td>19.549084</td>\n",
       "      <td>NaN</td>\n",
       "      <td>31.188015</td>\n",
       "      <td>17.765837</td>\n",
       "      <td>100.13368</td>\n",
       "      <td>287.545704</td>\n",
       "      <td>...</td>\n",
       "      <td>7.259477</td>\n",
       "      <td>27.702461</td>\n",
       "      <td>448.728893</td>\n",
       "      <td>1463.199131</td>\n",
       "      <td>30.680613</td>\n",
       "      <td>7.804913</td>\n",
       "      <td>0.0</td>\n",
       "      <td>11.366618</td>\n",
       "      <td>16.934730</td>\n",
       "      <td>NaN</td>\n",
       "    </tr>\n",
       "    <tr>\n",
       "      <th>min</th>\n",
       "      <td>27.000000</td>\n",
       "      <td>0.000000</td>\n",
       "      <td>2.000000</td>\n",
       "      <td>0.000000</td>\n",
       "      <td>1.000000</td>\n",
       "      <td>1.0</td>\n",
       "      <td>1.000000</td>\n",
       "      <td>0.000000</td>\n",
       "      <td>0.00000</td>\n",
       "      <td>0.000000</td>\n",
       "      <td>...</td>\n",
       "      <td>1.000000</td>\n",
       "      <td>0.000000</td>\n",
       "      <td>0.000000</td>\n",
       "      <td>0.000000</td>\n",
       "      <td>6.000000</td>\n",
       "      <td>6.000000</td>\n",
       "      <td>1.0</td>\n",
       "      <td>10.000000</td>\n",
       "      <td>0.000000</td>\n",
       "      <td>2.0</td>\n",
       "    </tr>\n",
       "    <tr>\n",
       "      <th>25%</th>\n",
       "      <td>234.000000</td>\n",
       "      <td>0.000000</td>\n",
       "      <td>10.500000</td>\n",
       "      <td>0.000000</td>\n",
       "      <td>2.750000</td>\n",
       "      <td>1.0</td>\n",
       "      <td>9.000000</td>\n",
       "      <td>0.000000</td>\n",
       "      <td>0.00000</td>\n",
       "      <td>0.000000</td>\n",
       "      <td>...</td>\n",
       "      <td>3.000000</td>\n",
       "      <td>0.000000</td>\n",
       "      <td>0.000000</td>\n",
       "      <td>0.000000</td>\n",
       "      <td>8.000000</td>\n",
       "      <td>7.500000</td>\n",
       "      <td>1.0</td>\n",
       "      <td>15.000000</td>\n",
       "      <td>0.000000</td>\n",
       "      <td>2.0</td>\n",
       "    </tr>\n",
       "    <tr>\n",
       "      <th>50%</th>\n",
       "      <td>36242.500000</td>\n",
       "      <td>0.000000</td>\n",
       "      <td>33.000000</td>\n",
       "      <td>0.000000</td>\n",
       "      <td>9.500000</td>\n",
       "      <td>1.0</td>\n",
       "      <td>31.000000</td>\n",
       "      <td>0.000000</td>\n",
       "      <td>14.00000</td>\n",
       "      <td>0.000000</td>\n",
       "      <td>...</td>\n",
       "      <td>4.000000</td>\n",
       "      <td>5.000000</td>\n",
       "      <td>3.500000</td>\n",
       "      <td>12.000000</td>\n",
       "      <td>29.000000</td>\n",
       "      <td>12.000000</td>\n",
       "      <td>1.0</td>\n",
       "      <td>33.000000</td>\n",
       "      <td>11.000000</td>\n",
       "      <td>2.0</td>\n",
       "    </tr>\n",
       "    <tr>\n",
       "      <th>75%</th>\n",
       "      <td>83824.500000</td>\n",
       "      <td>0.000000</td>\n",
       "      <td>46.500000</td>\n",
       "      <td>0.000000</td>\n",
       "      <td>14.000000</td>\n",
       "      <td>1.0</td>\n",
       "      <td>56.000000</td>\n",
       "      <td>0.000000</td>\n",
       "      <td>23.50000</td>\n",
       "      <td>5.500000</td>\n",
       "      <td>...</td>\n",
       "      <td>11.750000</td>\n",
       "      <td>13.000000</td>\n",
       "      <td>16.500000</td>\n",
       "      <td>61.500000</td>\n",
       "      <td>50.000000</td>\n",
       "      <td>17.750000</td>\n",
       "      <td>1.0</td>\n",
       "      <td>33.000000</td>\n",
       "      <td>16.000000</td>\n",
       "      <td>2.0</td>\n",
       "    </tr>\n",
       "    <tr>\n",
       "      <th>max</th>\n",
       "      <td>213254.000000</td>\n",
       "      <td>22.000000</td>\n",
       "      <td>59.000000</td>\n",
       "      <td>73.000000</td>\n",
       "      <td>53.000000</td>\n",
       "      <td>1.0</td>\n",
       "      <td>97.000000</td>\n",
       "      <td>115.000000</td>\n",
       "      <td>565.00000</td>\n",
       "      <td>1646.000000</td>\n",
       "      <td>...</td>\n",
       "      <td>19.000000</td>\n",
       "      <td>113.000000</td>\n",
       "      <td>2630.000000</td>\n",
       "      <td>9415.000000</td>\n",
       "      <td>79.000000</td>\n",
       "      <td>23.000000</td>\n",
       "      <td>1.0</td>\n",
       "      <td>33.000000</td>\n",
       "      <td>76.000000</td>\n",
       "      <td>2.0</td>\n",
       "    </tr>\n",
       "  </tbody>\n",
       "</table>\n",
       "<p>8 rows × 156 columns</p>\n",
       "</div>"
      ],
      "text/plain": [
       "               World  Afghanistan    Albania    Algeria    Andorra  \\\n",
       "count      80.000000    70.000000  11.000000  75.000000   6.000000   \n",
       "mean    51040.925000     1.557143  30.000000   5.466667  14.833333   \n",
       "std     54392.980669     4.915623  20.721969  14.925340  19.549084   \n",
       "min        27.000000     0.000000   2.000000   0.000000   1.000000   \n",
       "25%       234.000000     0.000000  10.500000   0.000000   2.750000   \n",
       "50%     36242.500000     0.000000  33.000000   0.000000   9.500000   \n",
       "75%     83824.500000     0.000000  46.500000   0.000000  14.000000   \n",
       "max    213254.000000    22.000000  59.000000  73.000000  53.000000   \n",
       "\n",
       "       Antigua and Barbuda  Argentina     Armenia  Australia      Austria  \\\n",
       "count                  1.0  13.000000   71.000000   80.00000    80.000000   \n",
       "mean                   1.0  35.230769    4.507042   44.82500    92.000000   \n",
       "std                    NaN  31.188015   17.765837  100.13368   287.545704   \n",
       "min                    1.0   1.000000    0.000000    0.00000     0.000000   \n",
       "25%                    1.0   9.000000    0.000000    0.00000     0.000000   \n",
       "50%                    1.0  31.000000    0.000000   14.00000     0.000000   \n",
       "75%                    1.0  56.000000    0.000000   23.50000     5.500000   \n",
       "max                    1.0  97.000000  115.000000  565.00000  1646.000000   \n",
       "\n",
       "       ...    Ukraine  United Arab Emirates  United Kingdom  United States  \\\n",
       "count  ...   6.000000             74.000000       80.000000      80.000000   \n",
       "mean   ...   7.500000             15.256757      154.025000     461.975000   \n",
       "std    ...   7.259477             27.702461      448.728893    1463.199131   \n",
       "min    ...   1.000000              0.000000        0.000000       0.000000   \n",
       "25%    ...   3.000000              0.000000        0.000000       0.000000   \n",
       "50%    ...   4.000000              5.000000        3.500000      12.000000   \n",
       "75%    ...  11.750000             13.000000       16.500000      61.500000   \n",
       "max    ...  19.000000            113.000000     2630.000000    9415.000000   \n",
       "\n",
       "         Uruguay  Uzbekistan  Vatican  Venezuela    Vietnam  Zambia  \n",
       "count   5.000000    4.000000      5.0   5.000000  76.000000     1.0  \n",
       "mean   34.400000   13.250000      1.0  24.800000  13.539474     2.0  \n",
       "std    30.680613    7.804913      0.0  11.366618  16.934730     NaN  \n",
       "min     6.000000    6.000000      1.0  10.000000   0.000000     2.0  \n",
       "25%     8.000000    7.500000      1.0  15.000000   0.000000     2.0  \n",
       "50%    29.000000   12.000000      1.0  33.000000  11.000000     2.0  \n",
       "75%    50.000000   17.750000      1.0  33.000000  16.000000     2.0  \n",
       "max    79.000000   23.000000      1.0  33.000000  76.000000     2.0  \n",
       "\n",
       "[8 rows x 156 columns]"
      ]
     },
     "execution_count": 88,
     "metadata": {},
     "output_type": "execute_result"
    }
   ],
   "source": [
    "total_cases.describe()"
   ]
  },
  {
   "cell_type": "markdown",
   "metadata": {},
   "source": [
    "<font color=\"blue\" size=4>\n",
    "    \n",
    "Total deaths"
   ]
  },
  {
   "cell_type": "code",
   "execution_count": 123,
   "metadata": {},
   "outputs": [],
   "source": [
    "source_total_deaths = \"https://covid.ourworldindata.org/data/ecdc/total_deaths.csv\"\n",
    "data3 = pd.read_csv(source_total_deaths)\n",
    "total_deaths = pd.DataFrame(data3)\n",
    "#total_deaths.head()"
   ]
  },
  {
   "cell_type": "code",
   "execution_count": 125,
   "metadata": {},
   "outputs": [],
   "source": [
    "# Muertos en China a causa del coronavirus.\n",
    "deaths_china = total_deaths['China'].max()"
   ]
  },
  {
   "cell_type": "code",
   "execution_count": 131,
   "metadata": {},
   "outputs": [
    {
     "name": "stdout",
     "output_type": "stream",
     "text": [
      "\u001b[1m \n",
      " EL PAÍS CON MAYOR NÚMERO DE CASOS HASTA EL MOMENTO ES  China  CON  81238.0  CASOS, \u001b[0m \n",
      "\n",
      "\u001b[1m CON UN NÚMERO DE MUERTOS de 3250 PERSONAS (EL 4.0 % DE SU POBLACIÓN DE INFECTADOS). \u001b[0m \n",
      "\n",
      "\u001b[1m ABARCANDO EL  38.09 %  DEL TOTAL MUNDIAL. \u001b[0m \n",
      "\n"
     ]
    }
   ],
   "source": [
    "# Buscamos el país con mayor número de casos. Los datos son acumulados por día, por eso buscamos el \n",
    "# máximo de cada país (porque es el acumulado total).\n",
    "# Indexamos con \"loc\" por el renglón \"max\" y hacemos la búsqueda a partir de la columna \"Afghanistan\"\n",
    "\n",
    "# data_frame.idxmax(axis=1)  devuelve el índice del elemento máximo por columna.\n",
    "\n",
    "number_max_case = total_cases.describe().loc['max','Afghanistan':].max()\n",
    "name_max_case = total_cases.describe().loc['max','Afghanistan':].idxmax(axis=1)\n",
    "\n",
    "print(\"\\033[1m \\n EL PAÍS CON MAYOR NÚMERO DE CASOS HASTA EL MOMENTO ES \", name_max_case, \" CON \", number_max_case, \" CASOS, \\033[0m \\n\")\n",
    "\n",
    "\n",
    "# Casos de muerte comparados con su población\n",
    "porcentaje_deaths = (deaths_china/number_max_case)*100\n",
    "print(\"\\033[1m CON UN NÚMERO DE MUERTOS de\", deaths_china , \"PERSONAS (EL\", round(porcentaje_deaths,2), \"% DE SU POBLACIÓN DE INFECTADOS). \\033[0m \\n\")\n",
    "\n",
    "# Casos totales comparados con los de China\n",
    "porcentaje = (number_max_case / max_world)*100    # Porcentaje de infectados en China\n",
    "print(\"\\033[1m ABARCANDO EL \", round(porcentaje,2), \"%  DEL TOTAL MUNDIAL. \\033[0m \\n\")\n"
   ]
  },
  {
   "cell_type": "markdown",
   "metadata": {},
   "source": [
    "### Enseguida se expone una gráfica del crecimiento que ha tenido la epidemia en este país."
   ]
  },
  {
   "cell_type": "code",
   "execution_count": 91,
   "metadata": {
    "scrolled": false
   },
   "outputs": [
    {
     "data": {
      "image/png": "[encoded data removed]",
      "text/plain": [
       "<Figure size 864x432 with 1 Axes>"
      ]
     },
     "metadata": {
      "needs_background": "light"
     },
     "output_type": "display_data"
    }
   ],
   "source": [
    "plt.figure(figsize=(12,6))\n",
    "plt.plot(total_cases['date'], total_cases['China'], marker='o')\n",
    "plt.axvline(x='2020-02-13', color='g', ls='-.')  #Grafica línea donde está el máximo incremento\n",
    "\n",
    "plt.xticks(['2020-01-01', '2020-02-01', '2020-02-13', '2020-03-01', total_cases['date'][len(total_cases)-1]])\n",
    "plt.xlabel('FECHA')\n",
    "plt.ylabel('NÚMERO DE CASOS')\n",
    "plt.title('TOTAL DE CASOS EN CHINA');"
   ]
  },
  {
   "cell_type": "markdown",
   "metadata": {},
   "source": [
    "## China ha disminuído las infecciones por contagio en los últimos días. Sus estrategias de contingencia le están dando muy buenos resultados. "
   ]
  },
  {
   "cell_type": "markdown",
   "metadata": {},
   "source": [
    "<font size=4>\n",
    "    \n",
    "Veamos un gráfico que representa la curva de los casos en China. Para esto, calculamos el número de infectados que aumentan por día en el país. Es decir, como los datos que tenemos son acumulados, hacemos la diferecia por cada día que pasa. Por ejemplo, si el primer día habían 10 casos y al segundo 15 casos, entonces hubo un aumento de 5 personas."
   ]
  },
  {
   "cell_type": "code",
   "execution_count": 92,
   "metadata": {},
   "outputs": [
    {
     "data": {
      "text/html": [
       "<div>\n",
       "<style scoped>\n",
       "    .dataframe tbody tr th:only-of-type {\n",
       "        vertical-align: middle;\n",
       "    }\n",
       "\n",
       "    .dataframe tbody tr th {\n",
       "        vertical-align: top;\n",
       "    }\n",
       "\n",
       "    .dataframe thead th {\n",
       "        text-align: right;\n",
       "    }\n",
       "</style>\n",
       "<table border=\"1\" class=\"dataframe\">\n",
       "  <thead>\n",
       "    <tr style=\"text-align: right;\">\n",
       "      <th></th>\n",
       "      <th>date</th>\n",
       "      <th>China</th>\n",
       "    </tr>\n",
       "  </thead>\n",
       "  <tbody>\n",
       "    <tr>\n",
       "      <th>0</th>\n",
       "      <td>2019-12-31</td>\n",
       "      <td>27</td>\n",
       "    </tr>\n",
       "    <tr>\n",
       "      <th>1</th>\n",
       "      <td>2020-01-01</td>\n",
       "      <td>27</td>\n",
       "    </tr>\n",
       "    <tr>\n",
       "      <th>2</th>\n",
       "      <td>2020-01-02</td>\n",
       "      <td>27</td>\n",
       "    </tr>\n",
       "    <tr>\n",
       "      <th>3</th>\n",
       "      <td>2020-01-03</td>\n",
       "      <td>44</td>\n",
       "    </tr>\n",
       "    <tr>\n",
       "      <th>4</th>\n",
       "      <td>2020-01-04</td>\n",
       "      <td>44</td>\n",
       "    </tr>\n",
       "    <tr>\n",
       "      <th>...</th>\n",
       "      <td>...</td>\n",
       "      <td>...</td>\n",
       "    </tr>\n",
       "    <tr>\n",
       "      <th>75</th>\n",
       "      <td>2020-03-15</td>\n",
       "      <td>80995</td>\n",
       "    </tr>\n",
       "    <tr>\n",
       "      <th>76</th>\n",
       "      <td>2020-03-16</td>\n",
       "      <td>81020</td>\n",
       "    </tr>\n",
       "    <tr>\n",
       "      <th>77</th>\n",
       "      <td>2020-03-17</td>\n",
       "      <td>81130</td>\n",
       "    </tr>\n",
       "    <tr>\n",
       "      <th>78</th>\n",
       "      <td>2020-03-18</td>\n",
       "      <td>81163</td>\n",
       "    </tr>\n",
       "    <tr>\n",
       "      <th>79</th>\n",
       "      <td>2020-03-19</td>\n",
       "      <td>81238</td>\n",
       "    </tr>\n",
       "  </tbody>\n",
       "</table>\n",
       "<p>80 rows × 2 columns</p>\n",
       "</div>"
      ],
      "text/plain": [
       "          date  China\n",
       "0   2019-12-31     27\n",
       "1   2020-01-01     27\n",
       "2   2020-01-02     27\n",
       "3   2020-01-03     44\n",
       "4   2020-01-04     44\n",
       "..         ...    ...\n",
       "75  2020-03-15  80995\n",
       "76  2020-03-16  81020\n",
       "77  2020-03-17  81130\n",
       "78  2020-03-18  81163\n",
       "79  2020-03-19  81238\n",
       "\n",
       "[80 rows x 2 columns]"
      ]
     },
     "execution_count": 92,
     "metadata": {},
     "output_type": "execute_result"
    }
   ],
   "source": [
    "# Vamos a calcular los incrementos por día\n",
    "china = total_cases[['date','China']]\n",
    "china"
   ]
  },
  {
   "cell_type": "code",
   "execution_count": 93,
   "metadata": {},
   "outputs": [
    {
     "data": {
      "image/png": "[encoded data removed]",
      "text/plain": [
       "<Figure size 720x360 with 1 Axes>"
      ]
     },
     "metadata": {
      "needs_background": "light"
     },
     "output_type": "display_data"
    }
   ],
   "source": [
    "incremento = []\n",
    "\n",
    "for n in range(1,len(china['China'])):\n",
    "    diferencia = china['China'][n] - china['China'][n-1]\n",
    "    incremento.append(diferencia)\n",
    "    \n",
    "#len(china['China']), len(incremento)\n",
    "\n",
    "plt.figure(figsize=(10,5))\n",
    "plt.plot(incremento, color='red', marker='o');"
   ]
  },
  {
   "cell_type": "code",
   "execution_count": 94,
   "metadata": {},
   "outputs": [
    {
     "name": "stdout",
     "output_type": "stream",
     "text": [
      "\u001b[1m \n",
      " EL INCREMENTO MÁXIMO APARENTE FUE DE 15141 infecciones \u001b[0m \n",
      "\n"
     ]
    }
   ],
   "source": [
    "print(\"\\033[1m \\n EL INCREMENTO MÁXIMO APARENTE FUE DE\", max(incremento), \"INFECCIONES. \\033[0m \\n\")"
   ]
  },
  {
   "cell_type": "markdown",
   "metadata": {},
   "source": [
    "Este cambio intenso no es fidedigno, puesto que hubo un cambio en la forma de contar los casos en China poR cuestiones de laboratorio. Si eliminamos los valores atípicos obtenemos lo siguiente:"
   ]
  },
  {
   "cell_type": "code",
   "execution_count": 95,
   "metadata": {},
   "outputs": [
    {
     "data": {
      "image/png": "[encoded data removed]",
      "text/plain": [
       "<Figure size 720x360 with 1 Axes>"
      ]
     },
     "metadata": {
      "needs_background": "light"
     },
     "output_type": "display_data"
    }
   ],
   "source": [
    "def outlier_China():\n",
    "    \n",
    "    #Eliminamos el outlier (sin sustituirlo)\n",
    "    incremento.pop(incremento.index(max(incremento)))\n",
    "\n",
    "    #Calculamos nuevamente la corrdenada x del nuevo valor máximo y graficamos.\n",
    "    x_max = incremento.index(max(incremento))\n",
    "    plt.figure(figsize=(10,5))\n",
    "    plt.plot(incremento, color='red', marker='o')\n",
    "    plt.axvline(x=x_max, ymin=0, ls='-.')\n",
    "    plt.show\n",
    "\n",
    "outlier_China()"
   ]
  },
  {
   "cell_type": "code",
   "execution_count": 96,
   "metadata": {},
   "outputs": [
    {
     "data": {
      "image/png": "[encoded data removed]",
      "text/plain": [
       "<Figure size 720x360 with 1 Axes>"
      ]
     },
     "metadata": {
      "needs_background": "light"
     },
     "output_type": "display_data"
    }
   ],
   "source": [
    "# Parece que hay dos valores que se salen del rango abitual.\n",
    "# Así que volvemos a ajustar la gráfica quitando ese valor.\n",
    "\n",
    "outlier_China()"
   ]
  },
  {
   "cell_type": "code",
   "execution_count": 97,
   "metadata": {},
   "outputs": [
    {
     "name": "stdout",
     "output_type": "stream",
     "text": [
      "\u001b[1m \n",
      "EL INCREMENTO MÁXIMO FUE DE 3872 INFECCIONES \u001b[0m \n",
      "\n"
     ]
    }
   ],
   "source": [
    "print(\"\\033[1m \\nEL INCREMENTO MÁXIMO FUE DE\", max(incremento), \"INFECCIONES \\033[0m \\n\")"
   ]
  },
  {
   "cell_type": "code",
   "execution_count": 98,
   "metadata": {},
   "outputs": [
    {
     "data": {
      "text/plain": [
       "'2020-02-12'"
      ]
     },
     "execution_count": 98,
     "metadata": {},
     "output_type": "execute_result"
    }
   ],
   "source": [
    "x_max\n",
    "# El maximo incremento está entre el índice 42 y 43:\n",
    "china['date'][43]"
   ]
  },
  {
   "cell_type": "markdown",
   "metadata": {},
   "source": [
    "El primer incremento (17 nuevos infectados) se dio del 2 al 3 de enero 2020. El mayor incremento se dio del 11  al 12 de febrero."
   ]
  },
  {
   "cell_type": "markdown",
   "metadata": {},
   "source": [
    "______________________________________________________"
   ]
  },
  {
   "cell_type": "markdown",
   "metadata": {},
   "source": [
    "## Crecimiento mundial de la epidemia"
   ]
  },
  {
   "cell_type": "code",
   "execution_count": 104,
   "metadata": {},
   "outputs": [],
   "source": [
    "cases_world = total_cases[['date','World']]"
   ]
  },
  {
   "cell_type": "code",
   "execution_count": 105,
   "metadata": {},
   "outputs": [
    {
     "data": {
      "image/png": "[encoded data removed]",
      "text/plain": [
       "<Figure size 720x360 with 1 Axes>"
      ]
     },
     "metadata": {
      "needs_background": "light"
     },
     "output_type": "display_data"
    }
   ],
   "source": [
    "plt.figure(figsize=(10,5))\n",
    "plt.plot(cases_world['date'], cases_world['World'], marker='o')\n",
    "plt.axvline(x='2020-02-13', color='g', ls='-.') \n",
    "\n",
    "plt.xticks(['2020-01-21', '2020-02-01', '2020-02-13', '2020-03-01', cases_world['date'][len(total_cases)-1]])\n",
    "plt.xlabel('FECHA')\n",
    "plt.ylabel('NÚMERO DE CASOS EN EL MUNDO')\n",
    "plt.title('TOTAL DE CASOS');"
   ]
  },
  {
   "cell_type": "markdown",
   "metadata": {},
   "source": [
    "<font size=4>\n",
    "\n",
    "El crecimiento exponencial de infecciones asegura la categoría de PANDEMIA."
   ]
  },
  {
   "cell_type": "markdown",
   "metadata": {},
   "source": [
    "## Por país\n",
    "\n",
    "    Hacemos una función que haga los cálculos respectivo por país, así como lo hicimos en el caso de China (se incluyen, si hay, los valores atípicos)."
   ]
  },
  {
   "cell_type": "code",
   "execution_count": 149,
   "metadata": {},
   "outputs": [],
   "source": [
    "# Casos totales comparados con los del país elegido\n",
    "\n",
    "def estadisticos(data, str_country):\n",
    "    \n",
    "    data_frame = data.copy()\n",
    "    \n",
    "    max_world = data_frame['World'].max()  # Total de casos mundial\n",
    "    number_max_cases = data_frame.describe().loc['max',str_country]   # Casos totales en el país elegido\n",
    "    deaths_country = total_deaths[str_country].max()\n",
    "    \n",
    "    porcentaje = (number_max_cases / max_world)*100  # Porcentaje de infectados a nivel mundial\n",
    "    \n",
    "    porcentaje_deaths = (deaths_country/number_max_case)*100   # Casos de muerte comparados con la población local\n",
    "    \n",
    "    \n",
    "    #Grafica el número de casos diarios (acumulado)\n",
    "    plt.figure(figsize=(10,5))\n",
    "    plt.plot(data_frame['date'], data_frame[str_country], marker='o')\n",
    "    plt.axvline(x='2020-02-13', color='g', ls='-.') \n",
    "\n",
    "    plt.xticks(['2020-01-01', '2020-02-01', '2020-02-13', '2020-03-01', data_frame['date'][len(total_cases)-1]])\n",
    "    plt.xlabel('Fecha')\n",
    "    plt.ylabel('Número de casos')\n",
    "    plt.title(f'Total de casos en {str_country}')\n",
    "    plt.show\n",
    "    \n",
    "    # Cambia  los NaN por ceros.\n",
    "    country = data_frame[['date',str_country]]     #Subconjunto con los datos del país que necesitamos.\n",
    "    country = country.fillna(value = 0)   \n",
    "    \n",
    "    # Calcula los incrementos diarios\n",
    "    incremento = []\n",
    "    for n in range(1,len(country[str_country])):\n",
    "        diferencia = country[str_country][n] - country[str_country][n-1]\n",
    "        incremento.append(diferencia)\n",
    "\n",
    "    \n",
    "    plt.figure(figsize=(10,5))\n",
    "    \n",
    "    #Grafica una línea vertical donde se encunetra el máximo de la gráfica\n",
    "    x_max = incremento.index(max(incremento))\n",
    "    plt.axvline(x=x_max, ymin=0)\n",
    "    \n",
    "    #Grafica la curva de incrementos\n",
    "    plt.plot(incremento, color='red', marker='o')\n",
    "    plt.xlabel('Días transcurridos')\n",
    "    plt.ylabel('Incremento')\n",
    "    plt.title(f'Incremento diario en {str_country}')\n",
    "    plt.show\n",
    "    \n",
    "    print(\"\\nEl número total de casos en\", str_country, \"es de\", number_max_cases, \"infectados.\")\n",
    "    \n",
    "    print(\"\\nEl incremento máximo fue de \", max(incremento), \"infecciones\")\n",
    "    \n",
    "    print(\"\\nCon un número de muertos de\", deaths_country , \"personas (el\", round(porcentaje_deaths,2), \"% de su población infectada).\\n\")\n",
    "    \n",
    "    print(str_country, \"abarca el\", round(porcentaje,2), \"% del total de casos confirmados a nivel mundial.\")\n"
   ]
  },
  {
   "cell_type": "code",
   "execution_count": 150,
   "metadata": {},
   "outputs": [
    {
     "name": "stdout",
     "output_type": "stream",
     "text": [
      "\n",
      "El número total de casos en Mexico es de 118.0 infectados.\n",
      "\n",
      "El incremento máximo fue de  29.0 infecciones\n",
      "\n",
      "Con un número de muertos de 0.0 personas (el 0.0 % de su población infectada).\n",
      "\n",
      "Mexico abarca el 0.06 % del total de casos confirmados a nivel mundial.\n"
     ]
    },
    {
     "data": {
      "image/png": "[encoded data removed]",
      "text/plain": [
       "<Figure size 720x360 with 1 Axes>"
      ]
     },
     "metadata": {
      "needs_background": "light"
     },
     "output_type": "display_data"
    },
    {
     "data": {
      "image/png": "[encoded data removed]",
      "text/plain": [
       "<Figure size 720x360 with 1 Axes>"
      ]
     },
     "metadata": {
      "needs_background": "light"
     },
     "output_type": "display_data"
    }
   ],
   "source": [
    "estadisticos(total_cases, 'Mexico')"
   ]
  },
  {
   "cell_type": "code",
   "execution_count": 151,
   "metadata": {},
   "outputs": [
    {
     "name": "stdout",
     "output_type": "stream",
     "text": [
      "\n",
      "El número total de casos en Canada es de 690.0 infectados.\n",
      "\n",
      "El incremento máximo fue de  145 infecciones\n",
      "\n",
      "Con un número de muertos de 9 personas (el 0.01 % de su población infectada).\n",
      "\n",
      "Canada abarca el 0.32 % del total de casos confirmados a nivel mundial.\n"
     ]
    },
    {
     "data": {
      "image/png": "[encoded data removed]",
      "text/plain": [
       "<Figure size 720x360 with 1 Axes>"
      ]
     },
     "metadata": {
      "needs_background": "light"
     },
     "output_type": "display_data"
    },
    {
     "data": {
      "image/png": "[encoded data removed]",
      "text/plain": [
       "<Figure size 720x360 with 1 Axes>"
      ]
     },
     "metadata": {
      "needs_background": "light"
     },
     "output_type": "display_data"
    }
   ],
   "source": [
    "estadisticos(total_cases, 'Canada')"
   ]
  },
  {
   "cell_type": "code",
   "execution_count": 152,
   "metadata": {},
   "outputs": [
    {
     "name": "stdout",
     "output_type": "stream",
     "text": [
      "\n",
      "El número total de casos en Japan es de 873.0 infectados.\n",
      "\n",
      "El incremento máximo fue de  62 infecciones\n",
      "\n",
      "Con un número de muertos de 29 personas (el 0.04 % de su población infectada).\n",
      "\n",
      "Japan abarca el 0.41 % del total de casos confirmados a nivel mundial.\n"
     ]
    },
    {
     "data": {
      "image/png": "[encoded data removed]",
      "text/plain": [
       "<Figure size 720x360 with 1 Axes>"
      ]
     },
     "metadata": {
      "needs_background": "light"
     },
     "output_type": "display_data"
    },
    {
     "data": {
      "image/png": "[encoded data removed]",
      "text/plain": [
       "<Figure size 720x360 with 1 Axes>"
      ]
     },
     "metadata": {
      "needs_background": "light"
     },
     "output_type": "display_data"
    }
   ],
   "source": [
    "estadisticos(total_cases, 'Japan')"
   ]
  },
  {
   "cell_type": "code",
   "execution_count": null,
   "metadata": {},
   "outputs": [],
   "source": []
  }
 ],
 "metadata": {
  "kernelspec": {
   "display_name": "Python 3",
   "language": "python",
   "name": "python3"
  },
  "language_info": {
   "codemirror_mode": {
    "name": "ipython",
    "version": 3
   },
   "file_extension": ".py",
   "mimetype": "text/x-python",
   "name": "python",
   "nbconvert_exporter": "python",
   "pygments_lexer": "ipython3",
   "version": "3.7.6"
  }
 },
 "nbformat": 4,
 "nbformat_minor": 4
}
